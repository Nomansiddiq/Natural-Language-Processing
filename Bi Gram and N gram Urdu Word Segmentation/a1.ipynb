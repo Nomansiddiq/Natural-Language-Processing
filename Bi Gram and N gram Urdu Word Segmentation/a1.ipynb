{
  "cells": [
    {
      "cell_type": "markdown",
      "metadata": {
        "id": "11_QtarKSjPf"
      },
      "source": [
        "### Natural Language Processing: Assignment 1"
      ]
    },
    {
      "cell_type": "markdown",
      "metadata": {
        "id": "0S_p54xNSTq_"
      },
      "source": [
        "##### This is demo program which give you idea about how to start  your assignment."
      ]
    },
    {
      "cell_type": "code",
      "execution_count": 13,
      "metadata": {
        "colab": {
          "base_uri": "https://localhost:8080/"
        },
        "id": "vIhS278lWQOv",
        "outputId": "3cff8b6d-5ca2-401a-bcc5-bd3b4e173221"
      },
      "outputs": [
        {
          "output_type": "stream",
          "name": "stdout",
          "text": [
            "Looking in indexes: https://pypi.org/simple, https://us-python.pkg.dev/colab-wheels/public/simple/\n",
            "Collecting urduhack[tf]\n",
            "  Downloading urduhack-1.1.1-py3-none-any.whl (105 kB)\n",
            "\u001b[2K     \u001b[90m━━━━━━━━━━━━━━━━━━━━━━━━━━━━━━━━━━━━━━━\u001b[0m \u001b[32m105.5/105.5 KB\u001b[0m \u001b[31m5.3 MB/s\u001b[0m eta \u001b[36m0:00:00\u001b[0m\n",
            "\u001b[?25hRequirement already satisfied: Click~=7.1 in /usr/local/lib/python3.8/dist-packages (from urduhack[tf]) (7.1.2)\n",
            "Requirement already satisfied: regex in /usr/local/lib/python3.8/dist-packages (from urduhack[tf]) (2022.6.2)\n",
            "Collecting tf2crf\n",
            "  Downloading tf2crf-0.1.33-py2.py3-none-any.whl (7.3 kB)\n",
            "Collecting tensorflow-datasets~=3.1\n",
            "  Downloading tensorflow_datasets-3.2.1-py3-none-any.whl (3.4 MB)\n",
            "\u001b[2K     \u001b[90m━━━━━━━━━━━━━━━━━━━━━━━━━━━━━━━━━━━━━━━━\u001b[0m \u001b[32m3.4/3.4 MB\u001b[0m \u001b[31m36.9 MB/s\u001b[0m eta \u001b[36m0:00:00\u001b[0m\n",
            "\u001b[?25hRequirement already satisfied: tensorflow~=2.2 in /usr/local/lib/python3.8/dist-packages (from urduhack[tf]) (2.9.2)\n",
            "Requirement already satisfied: gast<=0.4.0,>=0.2.1 in /usr/local/lib/python3.8/dist-packages (from tensorflow~=2.2->urduhack[tf]) (0.4.0)\n",
            "Requirement already satisfied: packaging in /usr/local/lib/python3.8/dist-packages (from tensorflow~=2.2->urduhack[tf]) (23.0)\n",
            "Requirement already satisfied: h5py>=2.9.0 in /usr/local/lib/python3.8/dist-packages (from tensorflow~=2.2->urduhack[tf]) (3.1.0)\n",
            "Requirement already satisfied: google-pasta>=0.1.1 in /usr/local/lib/python3.8/dist-packages (from tensorflow~=2.2->urduhack[tf]) (0.2.0)\n",
            "Requirement already satisfied: keras-preprocessing>=1.1.1 in /usr/local/lib/python3.8/dist-packages (from tensorflow~=2.2->urduhack[tf]) (1.1.2)\n",
            "Requirement already satisfied: typing-extensions>=3.6.6 in /usr/local/lib/python3.8/dist-packages (from tensorflow~=2.2->urduhack[tf]) (4.4.0)\n",
            "Requirement already satisfied: grpcio<2.0,>=1.24.3 in /usr/local/lib/python3.8/dist-packages (from tensorflow~=2.2->urduhack[tf]) (1.51.1)\n",
            "Requirement already satisfied: flatbuffers<2,>=1.12 in /usr/local/lib/python3.8/dist-packages (from tensorflow~=2.2->urduhack[tf]) (1.12)\n",
            "Requirement already satisfied: keras<2.10.0,>=2.9.0rc0 in /usr/local/lib/python3.8/dist-packages (from tensorflow~=2.2->urduhack[tf]) (2.9.0)\n",
            "Requirement already satisfied: tensorflow-estimator<2.10.0,>=2.9.0rc0 in /usr/local/lib/python3.8/dist-packages (from tensorflow~=2.2->urduhack[tf]) (2.9.0)\n",
            "Requirement already satisfied: absl-py>=1.0.0 in /usr/local/lib/python3.8/dist-packages (from tensorflow~=2.2->urduhack[tf]) (1.4.0)\n",
            "Requirement already satisfied: protobuf<3.20,>=3.9.2 in /usr/local/lib/python3.8/dist-packages (from tensorflow~=2.2->urduhack[tf]) (3.19.6)\n",
            "Requirement already satisfied: wrapt>=1.11.0 in /usr/local/lib/python3.8/dist-packages (from tensorflow~=2.2->urduhack[tf]) (1.14.1)\n",
            "Requirement already satisfied: setuptools in /usr/local/lib/python3.8/dist-packages (from tensorflow~=2.2->urduhack[tf]) (57.4.0)\n",
            "Requirement already satisfied: tensorboard<2.10,>=2.9 in /usr/local/lib/python3.8/dist-packages (from tensorflow~=2.2->urduhack[tf]) (2.9.1)\n",
            "Requirement already satisfied: termcolor>=1.1.0 in /usr/local/lib/python3.8/dist-packages (from tensorflow~=2.2->urduhack[tf]) (2.2.0)\n",
            "Requirement already satisfied: numpy>=1.20 in /usr/local/lib/python3.8/dist-packages (from tensorflow~=2.2->urduhack[tf]) (1.21.6)\n",
            "Requirement already satisfied: astunparse>=1.6.0 in /usr/local/lib/python3.8/dist-packages (from tensorflow~=2.2->urduhack[tf]) (1.6.3)\n",
            "Requirement already satisfied: six>=1.12.0 in /usr/local/lib/python3.8/dist-packages (from tensorflow~=2.2->urduhack[tf]) (1.15.0)\n",
            "Requirement already satisfied: libclang>=13.0.0 in /usr/local/lib/python3.8/dist-packages (from tensorflow~=2.2->urduhack[tf]) (15.0.6.1)\n",
            "Requirement already satisfied: tensorflow-io-gcs-filesystem>=0.23.1 in /usr/local/lib/python3.8/dist-packages (from tensorflow~=2.2->urduhack[tf]) (0.30.0)\n",
            "Requirement already satisfied: opt-einsum>=2.3.2 in /usr/local/lib/python3.8/dist-packages (from tensorflow~=2.2->urduhack[tf]) (3.3.0)\n",
            "Requirement already satisfied: tensorflow-metadata in /usr/local/lib/python3.8/dist-packages (from tensorflow-datasets~=3.1->urduhack[tf]) (1.12.0)\n",
            "Requirement already satisfied: tqdm in /usr/local/lib/python3.8/dist-packages (from tensorflow-datasets~=3.1->urduhack[tf]) (4.64.1)\n",
            "Requirement already satisfied: promise in /usr/local/lib/python3.8/dist-packages (from tensorflow-datasets~=3.1->urduhack[tf]) (2.3)\n",
            "Requirement already satisfied: dill in /usr/local/lib/python3.8/dist-packages (from tensorflow-datasets~=3.1->urduhack[tf]) (0.3.6)\n",
            "Requirement already satisfied: requests>=2.19.0 in /usr/local/lib/python3.8/dist-packages (from tensorflow-datasets~=3.1->urduhack[tf]) (2.25.1)\n",
            "Requirement already satisfied: attrs>=18.1.0 in /usr/local/lib/python3.8/dist-packages (from tensorflow-datasets~=3.1->urduhack[tf]) (22.2.0)\n",
            "Requirement already satisfied: future in /usr/local/lib/python3.8/dist-packages (from tensorflow-datasets~=3.1->urduhack[tf]) (0.16.0)\n",
            "Collecting tensorflow-addons>=0.8.2\n",
            "  Downloading tensorflow_addons-0.19.0-cp38-cp38-manylinux_2_17_x86_64.manylinux2014_x86_64.whl (1.1 MB)\n",
            "\u001b[2K     \u001b[90m━━━━━━━━━━━━━━━━━━━━━━━━━━━━━━━━━━━━━━━━\u001b[0m \u001b[32m1.1/1.1 MB\u001b[0m \u001b[31m53.2 MB/s\u001b[0m eta \u001b[36m0:00:00\u001b[0m\n",
            "\u001b[?25hRequirement already satisfied: wheel<1.0,>=0.23.0 in /usr/local/lib/python3.8/dist-packages (from astunparse>=1.6.0->tensorflow~=2.2->urduhack[tf]) (0.38.4)\n",
            "Requirement already satisfied: idna<3,>=2.5 in /usr/local/lib/python3.8/dist-packages (from requests>=2.19.0->tensorflow-datasets~=3.1->urduhack[tf]) (2.10)\n",
            "Requirement already satisfied: certifi>=2017.4.17 in /usr/local/lib/python3.8/dist-packages (from requests>=2.19.0->tensorflow-datasets~=3.1->urduhack[tf]) (2022.12.7)\n",
            "Requirement already satisfied: urllib3<1.27,>=1.21.1 in /usr/local/lib/python3.8/dist-packages (from requests>=2.19.0->tensorflow-datasets~=3.1->urduhack[tf]) (1.24.3)\n",
            "Requirement already satisfied: chardet<5,>=3.0.2 in /usr/local/lib/python3.8/dist-packages (from requests>=2.19.0->tensorflow-datasets~=3.1->urduhack[tf]) (4.0.0)\n",
            "Requirement already satisfied: markdown>=2.6.8 in /usr/local/lib/python3.8/dist-packages (from tensorboard<2.10,>=2.9->tensorflow~=2.2->urduhack[tf]) (3.4.1)\n",
            "Requirement already satisfied: google-auth-oauthlib<0.5,>=0.4.1 in /usr/local/lib/python3.8/dist-packages (from tensorboard<2.10,>=2.9->tensorflow~=2.2->urduhack[tf]) (0.4.6)\n",
            "Requirement already satisfied: tensorboard-plugin-wit>=1.6.0 in /usr/local/lib/python3.8/dist-packages (from tensorboard<2.10,>=2.9->tensorflow~=2.2->urduhack[tf]) (1.8.1)\n",
            "Requirement already satisfied: werkzeug>=1.0.1 in /usr/local/lib/python3.8/dist-packages (from tensorboard<2.10,>=2.9->tensorflow~=2.2->urduhack[tf]) (1.0.1)\n",
            "Requirement already satisfied: tensorboard-data-server<0.7.0,>=0.6.0 in /usr/local/lib/python3.8/dist-packages (from tensorboard<2.10,>=2.9->tensorflow~=2.2->urduhack[tf]) (0.6.1)\n",
            "Requirement already satisfied: google-auth<3,>=1.6.3 in /usr/local/lib/python3.8/dist-packages (from tensorboard<2.10,>=2.9->tensorflow~=2.2->urduhack[tf]) (2.16.0)\n",
            "Requirement already satisfied: typeguard>=2.7 in /usr/local/lib/python3.8/dist-packages (from tensorflow-addons>=0.8.2->tf2crf->urduhack[tf]) (2.7.1)\n",
            "Requirement already satisfied: googleapis-common-protos<2,>=1.52.0 in /usr/local/lib/python3.8/dist-packages (from tensorflow-metadata->tensorflow-datasets~=3.1->urduhack[tf]) (1.58.0)\n",
            "Requirement already satisfied: cachetools<6.0,>=2.0.0 in /usr/local/lib/python3.8/dist-packages (from google-auth<3,>=1.6.3->tensorboard<2.10,>=2.9->tensorflow~=2.2->urduhack[tf]) (5.3.0)\n",
            "Requirement already satisfied: pyasn1-modules>=0.2.1 in /usr/local/lib/python3.8/dist-packages (from google-auth<3,>=1.6.3->tensorboard<2.10,>=2.9->tensorflow~=2.2->urduhack[tf]) (0.2.8)\n",
            "Requirement already satisfied: rsa<5,>=3.1.4 in /usr/local/lib/python3.8/dist-packages (from google-auth<3,>=1.6.3->tensorboard<2.10,>=2.9->tensorflow~=2.2->urduhack[tf]) (4.9)\n",
            "Requirement already satisfied: requests-oauthlib>=0.7.0 in /usr/local/lib/python3.8/dist-packages (from google-auth-oauthlib<0.5,>=0.4.1->tensorboard<2.10,>=2.9->tensorflow~=2.2->urduhack[tf]) (1.3.1)\n",
            "Requirement already satisfied: importlib-metadata>=4.4 in /usr/local/lib/python3.8/dist-packages (from markdown>=2.6.8->tensorboard<2.10,>=2.9->tensorflow~=2.2->urduhack[tf]) (6.0.0)\n",
            "Requirement already satisfied: zipp>=0.5 in /usr/local/lib/python3.8/dist-packages (from importlib-metadata>=4.4->markdown>=2.6.8->tensorboard<2.10,>=2.9->tensorflow~=2.2->urduhack[tf]) (3.12.0)\n",
            "Requirement already satisfied: pyasn1<0.5.0,>=0.4.6 in /usr/local/lib/python3.8/dist-packages (from pyasn1-modules>=0.2.1->google-auth<3,>=1.6.3->tensorboard<2.10,>=2.9->tensorflow~=2.2->urduhack[tf]) (0.4.8)\n",
            "Requirement already satisfied: oauthlib>=3.0.0 in /usr/local/lib/python3.8/dist-packages (from requests-oauthlib>=0.7.0->google-auth-oauthlib<0.5,>=0.4.1->tensorboard<2.10,>=2.9->tensorflow~=2.2->urduhack[tf]) (3.2.2)\n",
            "Installing collected packages: tensorflow-addons, tensorflow-datasets, tf2crf, urduhack\n",
            "  Attempting uninstall: tensorflow-datasets\n",
            "    Found existing installation: tensorflow-datasets 4.8.2\n",
            "    Uninstalling tensorflow-datasets-4.8.2:\n",
            "      Successfully uninstalled tensorflow-datasets-4.8.2\n",
            "Successfully installed tensorflow-addons-0.19.0 tensorflow-datasets-3.2.1 tf2crf-0.1.33 urduhack-1.1.1\n"
          ]
        }
      ],
      "source": [
        "!pip install 'urduhack[tf]'"
      ]
    },
    {
      "cell_type": "markdown",
      "metadata": {
        "id": "XChiPrRsSwjz"
      },
      "source": [
        "##### Reading File"
      ]
    },
    {
      "cell_type": "code",
      "execution_count": 14,
      "metadata": {
        "colab": {
          "base_uri": "https://localhost:8080/"
        },
        "id": "lxjaBCgOWYKt",
        "outputId": "65b0e254-7fd4-45e3-b7f0-08c9215c2b8c"
      },
      "outputs": [
        {
          "output_type": "stream",
          "name": "stdout",
          "text": [
            "عقل خان کے مطابق اس خوبصورت چراگاہ کو کنڈیل شئی بانال کہا جاتا ہے کنڈیل شئی بانال کے اس خوبصورت میدان کو اگر سویٹزرلینڈ کے کسی ہرے بھرے میدانی علاقے سے تشبیہہ دی جائے تو کچھ غلط نہیں ہوگا میدان میں داخل ہوتے ہی کچھ دیر آرام کرنے کی میری خواہش پر سب نے لبیک کہا ایسا لگا جیسے ان کی دل کی بات میرے لبوں سے ادا ہوئی ہو۔\n"
          ]
        }
      ],
      "source": [
        "import csv\n",
        "import urduhack\n",
        "\n",
        "with open('sent-test.txt', 'rt', encoding=\"utf-8\") as f:\n",
        "    reader = csv.reader(f)\n",
        "    passage = list(reader)\n",
        "f.close()\n",
        "text = passage[0][0]\n",
        "print(text)"
      ]
    },
    {
      "cell_type": "markdown",
      "metadata": {
        "id": "7n78yey2XIMS"
      },
      "source": [
        "##### Segmentation using UrduHack"
      ]
    },
    {
      "cell_type": "code",
      "execution_count": 21,
      "metadata": {
        "id": "h59NYJQZXIMU",
        "outputId": "81a336ea-f406-4360-b72d-68a9adee3035",
        "colab": {
          "base_uri": "https://localhost:8080/"
        }
      },
      "outputs": [
        {
          "output_type": "execute_result",
          "data": {
            "text/plain": [
              "['عقل خان کے مطابق اس خوبصورت چراگاہ کو کنڈیل شئی بانال کہا جاتا ہے',\n",
              " 'کنڈیل شئی بانال کے اس خوبصورت میدان کو اگر سویٹزرلینڈ کے کسی ہرے بھرے میدانی علاقے سے تشبیہہ دی جائے تو کچھ غلط نہیں ہوگا میدان میں داخل ہوتے ہی کچھ دیر آرام کرنے کی میری خواہش پر سب نے لبیک کہا ایسا لگا جیسے ان کی دل کی بات میرے لبوں سے ادا ہوئی ہو۔']"
            ]
          },
          "metadata": {},
          "execution_count": 21
        }
      ],
      "source": [
        "from urduhack.tokenization import sentence_tokenizer\n",
        "from urduhack.tokenization import word_tokenizer\n",
        "sentences = sentence_tokenizer(text)\n",
        "sentences"
      ]
    },
    {
      "cell_type": "code",
      "execution_count": 22,
      "metadata": {
        "id": "7IA8h_acXIMW",
        "outputId": "5067eb57-09df-41c5-9483-f6c8c8f63b7b",
        "colab": {
          "base_uri": "https://localhost:8080/"
        }
      },
      "outputs": [
        {
          "output_type": "execute_result",
          "data": {
            "text/plain": [
              "2"
            ]
          },
          "metadata": {},
          "execution_count": 22
        }
      ],
      "source": [
        "len(sentences) "
      ]
    },
    {
      "cell_type": "markdown",
      "metadata": {
        "id": "_gaElHuGS4Qb"
      },
      "source": [
        "#### Reading Segmented File"
      ]
    },
    {
      "cell_type": "code",
      "execution_count": 23,
      "metadata": {
        "id": "gnPi90zhegAM"
      },
      "outputs": [],
      "source": [
        "with open('sent-segmented.txt', 'rt', encoding=\"utf-8\") as f:\n",
        "    reader = csv.reader(f)\n",
        "    segmented = list(reader) \n",
        "f.close()"
      ]
    },
    {
      "cell_type": "code",
      "execution_count": 24,
      "metadata": {
        "id": "rGdFHaRhXIMg",
        "outputId": "15183fc8-cf64-4b10-fe89-03ee225cd680",
        "colab": {
          "base_uri": "https://localhost:8080/"
        }
      },
      "outputs": [
        {
          "output_type": "execute_result",
          "data": {
            "text/plain": [
              "5"
            ]
          },
          "metadata": {},
          "execution_count": 24
        }
      ],
      "source": [
        "seg_text = segmented[0][0]\n",
        "sents = seg_text.split('۔')\n",
        "len(sents)"
      ]
    },
    {
      "cell_type": "code",
      "source": [
        "# Downloading urduhack \n",
        "urduhack.download()"
      ],
      "metadata": {
        "id": "iDq_mCfOfbcm"
      },
      "execution_count": 33,
      "outputs": []
    },
    {
      "cell_type": "code",
      "execution_count": 34,
      "metadata": {
        "id": "6hRYpNIDXIMh",
        "outputId": "d5140bca-0859-46fa-d13a-9b89b2ab3d8e",
        "colab": {
          "base_uri": "https://localhost:8080/"
        }
      },
      "outputs": [
        {
          "output_type": "stream",
          "name": "stdout",
          "text": [
            "10/10 [==============================] - 19s 2s/step\n"
          ]
        }
      ],
      "source": [
        "w_list = word_tokenizer(seg_text)"
      ]
    },
    {
      "cell_type": "code",
      "execution_count": 35,
      "metadata": {
        "id": "OI5Zm07DXIMj",
        "outputId": "f009a134-bbce-4dd5-8dce-7eb8dc439670",
        "colab": {
          "base_uri": "https://localhost:8080/",
          "height": 35
        }
      },
      "outputs": [
        {
          "output_type": "execute_result",
          "data": {
            "text/plain": [
              "'عقل'"
            ],
            "application/vnd.google.colaboratory.intrinsic+json": {
              "type": "string"
            }
          },
          "metadata": {},
          "execution_count": 35
        }
      ],
      "source": [
        "w_list[0]"
      ]
    },
    {
      "cell_type": "markdown",
      "metadata": {
        "id": "knzOLHdkXIMk"
      },
      "source": [
        "##### Your Sentence Segmentation Code"
      ]
    },
    {
      "cell_type": "code",
      "execution_count": 37,
      "metadata": {
        "id": "t9JiLHgJXIMk",
        "outputId": "db6da6b8-6b5e-4cf3-af9e-3b220eebc33d",
        "colab": {
          "base_uri": "https://localhost:8080/"
        }
      },
      "outputs": [
        {
          "output_type": "stream",
          "name": "stdout",
          "text": [
            "گزشتہ کئی سالوں سے مختلف بحران آتے جاتے رہے لیکن حالیہ آٹا ، چینی سمیت دیگر بحران اچانک پید ا ہوئے اور ان پر جے آئی ٹی تشکیل دے دیں گئیں تاکہ عوام کو ریلیف دیا جاسکے دوسری جانب بجلی ، گیس ، پانی سمیت دیگر بلوں میں کئی سو گنا اضافہ کردیا گیا ،صوبائی و وفاقی وزراء نے اپنے اپنے ایوانوں بحران کے ذمہ دار عناصر کو بے نقاب کرنے کے بجائے سب اچھاہے کی رپورٹ پیش کیں ساتھ ہی اورنگزیب کی طرح جواب دیا، حقائق کی ’’قبر ذرا گہری کھودنا!‘‘ تاریخی گواہ ہے بقول ماہرین ، مبصرین اور صحافیوں کا کہنا اور لکھنا ہے کہ پگڑی بدل بھائی کی رسم کی آڑ میں نادر شاہ نے محمد شاہ رنگیلا سے کوہِ نور ہیرا حاصل کیا تھا 12 مئی 1739 کی شام دہلی میں زبردست چہل پہل، شاہجہان آباد میں چراغاں اور لال قلعے میں جشن کا سماں ہے غریبوں میں شربت، پان اور کھانا تقسیم کیا جا رہا ہے، فقیروں، گداؤں کو جھولی بھر بھر کر روپے عطا ہو رہے ہیں آج دربار میں ایرانی بادشاہ نادر شاہ کے سامنے مغلیہ سلطنت کے 13ویں تاجدار محمد شاہ بیٹھے ہیں، لیکن اس وقت ان کے سر پر شاہی تاج نہیں ہے، کیوں نادر شاہ نے ڈھائی ماہ قبل ان سے سلطنت چھین لی تھی 56 دن دہلی میں رہنے کے بعد اب نادر شاہ کے واپس ایران لوٹنے کا وقت آ گیا ہے اور وہ ہندوستان کی باگ ڈور دوبارہ سے محمد شاہ کے حوالے کرنا چاہتا ہے نادر شاہ نے صدیوں سے جمع کردہ مغل خزانے میں جھاڑو پھیر دی ہے اور شہر کے تمام امرا و روسا کی جیبیں الٹا لی ہیں، لیکن اسے دہلی کی ایک طوائف نور بائی نے، جس کا ذکر آگے چل کر آئے گا، خفیہ طور پر بتا دیا ہے کہ یہ سب کچھ جو تم نے حاصل کیا ہے، وہ ایسی چیز کے آگے ہیچ ہے جسے محمد شاہ نے اپنی پگڑی میں چھپا رکھا ہے نادر شاہ گھاگ سیاستدان اور گھاٹ گھاٹ کا پانی پیے ہوئے تھا اس موقعے پر وہ چال چلی جسے نہلے پہ دہلا کہا جاتا ہے اس نے محمد شاہ سے کہا، ’’ایران میں رسم چلی آتی ہے کہ بھائی خوشی کے موقعے پر آپس میں پگڑیاں بدل دیتے ہیں، آج سے ہم بھائی بھائی بن گئے ہیں، تو کیوں نہ اسی رسم کا اعادہ کیا جائے؟‘‘ محمد شاہ کے پاس سر جھکانے کے علاوہ کوئی چارہ نہیں تھا نادر شاہ نے اپنی پگڑی اتار کر اس کے سر رکھی، اور اس کی پگڑی اپنے سر، اور یوں دنیا کا مشہور ترین ہیرا کوہِ نور ہندوستان سے نکل کر ایران پہنچ گیا رنگیلا بادشاہ)اس ہیرے کے مالک محمد شاہ اپنے پڑدادا اورنگزیب عالمگیر کے دورِ حکومت میں 1702 میں پیدا ہوئے تھے ان کا پیدائشی نام تو روشن اختر تھا، تاہم 29 ستمبر 1719 کو بادشاہ گر سید برادران نے انھیں صرف 17 برس کی عمر میں سلطنت تیموریہ کے تخت پر بٹھانے کے بعد ابوالفتح نصیر الدین روشن اختر محمد شاہ کا خطاب دیا خود ان کا تخلص ’’سدا رنگیلا‘‘ تھا اتنا لمبا نام کون یاد رکھتا، چنانچہ عوام نے دونوں کو ملا کر محمد شاہ رنگیلا کر دیا اور وہ آج تک ہندوستان کے طول و عرض میں اسی نام سے جانے اور مانے جاتے ہیں اورنگزیب عالمگیر نے ہندوستان میں ایک خاص قسم کا کٹر اسلام نافذ کر رکھا تھا محمد شاہ کی پیدائش کے وقت اورنگزیب عالمگیر نے ہندوستان میں ایک خاص قسم کا کٹر اسلام نافذ کر رکھا تھا اس کا سب سے پہلا نشانہ وہ فنونِ لطیفہ بنے جن کے بارے میں تصور تھا کہ وہ اسلامی اصولوں سے مطابقت نہیں رکھتے اس کی ایک دلچسپ مثال اطالوی سیاح نکولو منوچی نے لکھی ہے وہ کہتے ہیں کہ اورنگزیبی دور میں جب موسیقی پر پابندی لگی تو گویوں اور موسیقاروں کی روٹی روزی بند ہو گئی آخر تنگ آ کر ایک ہزار فنکاروں نے جمعے کے دن دہلی کی جامع مسجد سے ایک جلوس نکالا اور آلات موسیقی کو جنازوں کی شکل میں لے کر روتے پیٹتے گزرنے لگے اورنگزیب نے دیکھا تو حیرت زدہ ہو کر پچھوایا، یہ کس کا جنازہ لیے جا رہے ہو جس کی خاطر اس قدر آہ و بکا کیا جا رہا ہے؟’’ انھوں نے کہا: ‘‘آپ نے موسیقی قتل کر دی ہے اسے دفنانے جا رہے ہیں اورنگزیب نے جواب دیا، ’’قبر ذرا گہری کھودنا!‘‘طبیعیات کا اصول ہے کہ ہر عمل کا ردِ عمل ہوتا ہے یہی اصول تاریخ اور انسانی معاشرت پر بھی لاگو ہوتا ہے کہ جس چیز کو جتنی سختی سے دبایا جائے، وہ اتنی ہی قوت سے ابھر کر سامنے آتی ہے چنانچہ اورنگزیب کے بعد بھی یہی کچھ ہوا اور محمد شاہ کے دور میں وہ تمام فنون پوری آب و تاب سے سامنے آ گئے جو اس سے پہلے دب گئے تھے \t\tسب اچھاہے ،حقائق کی قبر ذرا گہری کھودنا\n"
          ]
        }
      ],
      "source": [
        "import csv\n",
        "\n",
        "with open('urdu-corpus.txt', 'rt', encoding=\"utf-8\") as f:\n",
        "    reader = csv.reader(f)\n",
        "    passage = list(reader)\n",
        "f.close()\n",
        "text = passage[0][0]\n",
        "print(text)"
      ]
    },
    {
      "cell_type": "markdown",
      "metadata": {
        "id": "YZ83jAJ3S-uR"
      },
      "source": [
        "#### Compute Accuracy and Print Results"
      ]
    },
    {
      "cell_type": "code",
      "execution_count": 38,
      "metadata": {
        "colab": {
          "base_uri": "https://localhost:8080/"
        },
        "id": "OyFZPRIGlWNy",
        "outputId": "4aa40204-5e27-4a6f-e58c-f3df7690f6de"
      },
      "outputs": [
        {
          "output_type": "stream",
          "name": "stdout",
          "text": [
            "['گزشتہ', 'کئی', 'سالوں', 'سے', 'مختلف', 'بحران', 'آتے', 'جاتے', 'رہے', 'لیکن', 'حالیہ', 'آٹا', 'چینی', 'سمیت', 'دیگر', 'بحران', 'اچانک', 'پید', 'ا', 'ہوئے', 'اور', 'ان', 'پر', 'جے', 'آئی', 'ٹی', 'تشکیل', 'دے', 'دیں', 'گئیں', 'تاکہ', 'عوام', 'کو', 'ریلیف', 'دیا', 'جاسکے', 'دوسری', 'جانب', 'بجلی', 'گیس', 'پانی', 'سمیت', 'دیگر', 'بلوں', 'میں', 'کئی', 'سو', 'گنا', 'اضافہ', 'کردیا', 'گیا', 'صوبائی', 'و', 'وفاقی', 'وزراء', 'نے', 'اپنے', 'اپنے', 'ایوانوں', 'بحران', 'کے', 'ذمہ', 'دار', 'عناصر', 'کو', 'بے', 'نقاب', 'کرنے', 'کے', 'بجائے', 'سب', 'اچھاہے', 'کی', 'رپورٹ', 'پیش', 'کیں', 'ساتھ', 'ہی', 'اورنگزیب', 'کی', 'طرح', 'جواب', 'دیا', 'حقائق', 'کی', 'قبر', 'ذرا', 'گہری', 'کھودنا', 'تاریخی', 'گواہ', 'ہے', 'بقول', 'ماہرین', 'مبصرین', 'اور', 'صحافیوں', 'کا', 'کہنا', 'اور', 'لکھنا', 'ہے', 'کہ', 'پگڑی', 'بدل', 'بھائی', 'کی', 'رسم', 'کی', 'آڑ', 'میں', 'نادر', 'شاہ', 'نے', 'محمد', 'شاہ', 'رنگیلا', 'سے', 'کوہ', 'نور', 'ہیرا', 'حاصل', 'کیا', 'تھا', '12', 'مئی', '1739', 'کی', 'شام', 'دہلی', 'میں', 'زبردست', 'چہل', 'پہل', 'شاہجہان', 'آباد', 'میں', 'چراغاں', 'اور', 'لال', 'قلعے', 'میں', 'جشن', 'کا', 'سماں', 'ہے', 'غریبوں', 'میں', 'شربت', 'پان', 'اور', 'کھانا', 'تقسیم', 'کیا', 'جا', 'رہا', 'ہے', 'فقیروں', 'گداؤں', 'کو', 'جھولی', 'بھر', 'بھر', 'کر', 'روپے', 'عطا', 'ہو', 'رہے', 'ہیں', 'آج', 'دربار', 'میں', 'ایرانی', 'بادشاہ', 'نادر', 'شاہ', 'کے', 'سامنے', 'مغلیہ', 'سلطنت', 'کے', '13ویں', 'تاجدار', 'محمد', 'شاہ', 'بیٹھے', 'ہیں', 'لیکن', 'اس', 'وقت', 'ان', 'کے', 'سر', 'پر', 'شاہی', 'تاج', 'نہیں', 'ہے', 'کیوں', 'نادر', 'شاہ', 'نے', 'ڈھائی', 'ماہ', 'قبل', 'ان', 'سے', 'سلطنت', 'چھین', 'لی', 'تھی', '56', 'دن', 'دہلی', 'میں', 'رہنے', 'کے', 'بعد', 'اب', 'نادر', 'شاہ', 'کے', 'واپس', 'ایران', 'لوٹنے', 'کا', 'وقت', 'آ', 'گیا', 'ہے', 'اور', 'وہ', 'ہندوستان', 'کی', 'باگ', 'ڈور', 'دوبارہ', 'سے', 'محمد', 'شاہ', 'کے', 'حوالے', 'کرنا', 'چاہتا', 'ہے', 'نادر', 'شاہ', 'نے', 'صدیوں', 'سے', 'جمع', 'کردہ', 'مغل', 'خزانے', 'میں', 'جھاڑو', 'پھیر', 'دی', 'ہے', 'اور', 'شہر', 'کے', 'تمام', 'امرا', 'و', 'روسا', 'کی', 'جیبیں', 'الٹا', 'لی', 'ہیں', 'لیکن', 'اسے', 'دہلی', 'کی', 'ایک', 'طوائف', 'نور', 'بائی', 'نے', 'جس', 'کا', 'ذکر', 'آگے', 'چل', 'کر', 'آئے', 'گا', 'خفیہ', 'طور', 'پر', 'بتا', 'دیا', 'ہے', 'کہ', 'یہ', 'سب', 'کچھ', 'جو', 'تم', 'نے', 'حاصل', 'کیا', 'ہے', 'وہ', 'ایسی', 'چیز', 'کے', 'آگے', 'ہیچ', 'ہے', 'جسے', 'محمد', 'شاہ', 'نے', 'اپنی', 'پگڑی', 'میں', 'چھپا', 'رکھا', 'ہے', 'نادر', 'شاہ', 'گھاگ', 'سیاستدان', 'اور', 'گھاٹ', 'گھاٹ', 'کا', 'پانی', 'پیے', 'ہوئے', 'تھا', 'اس', 'موقعے', 'پر', 'وہ', 'چال', 'چلی', 'جسے', 'نہلے', 'پہ', 'دہلا', 'کہا', 'جاتا', 'ہے', 'اس', 'نے', 'محمد', 'شاہ', 'سے', 'کہا', 'ایران', 'میں', 'رسم', 'چلی', 'آتی', 'ہے', 'کہ', 'بھائی', 'خوشی', 'کے', 'موقعے', 'پر', 'آپس', 'میں', 'پگڑیاں', 'بدل', 'دیتے', 'ہیں', 'آج', 'سے', 'ہم', 'بھائی', 'بھائی', 'بن', 'گئے', 'ہیں', 'تو', 'کیوں', 'نہ', 'اسی', 'رسم', 'کا', 'اعادہ', 'کیا', 'جائے', 'محمد', 'شاہ', 'کے', 'پاس', 'سر', 'جھکانے', 'کے', 'علاوہ', 'کوئی', 'چارہ', 'نہیں', 'تھا', 'نادر', 'شاہ', 'نے', 'اپنی', 'پگڑی', 'اتار', 'کر', 'اس', 'کے', 'سر', 'رکھی', 'اور', 'اس', 'کی', 'پگڑی', 'اپنے', 'سر', 'اور', 'یوں', 'دنیا', 'کا', 'مشہور', 'ترین', 'ہیرا', 'کوہ', 'نور', 'ہندوستان', 'سے', 'نکل', 'کر', 'ایران', 'پہنچ', 'گیا', 'رنگیلا', 'بادشاہ', 'اس', 'ہیرے', 'کے', 'مالک', 'محمد', 'شاہ', 'اپنے', 'پڑدادا', 'اورنگزیب', 'عالمگیر', 'کے', 'دور', 'حکومت', 'میں', '1702', 'میں', 'پیدا', 'ہوئے', 'تھے', 'ان', 'کا', 'پیدائشی', 'نام', 'تو', 'روشن', 'اختر', 'تھا', 'تاہم', '29', 'ستمبر', '1719', 'کو', 'بادشاہ', 'گر', 'سید', 'برادران', 'نے', 'انھیں', 'صرف', '17', 'برس', 'کی', 'عمر', 'میں', 'سلطنت', 'تیموریہ', 'کے', 'تخت', 'پر', 'بٹھانے', 'کے', 'بعد', 'ابوالفتح', 'نصیر', 'الدین', 'روشن', 'اختر', 'محمد', 'شاہ', 'کا', 'خطاب', 'دیا', 'خود', 'ان', 'کا', 'تخلص', 'سدا', 'رنگیلا', 'تھا', 'اتنا', 'لمبا', 'نام', 'کون', 'یاد', 'رکھتا', 'چنانچہ', 'عوام', 'نے', 'دونوں', 'کو', 'ملا', 'کر', 'محمد', 'شاہ', 'رنگیلا', 'کر', 'دیا', 'اور', 'وہ', 'آج', 'تک', 'ہندوستان', 'کے', 'طول', 'و', 'عرض', 'میں', 'اسی', 'نام', 'سے', 'جانے', 'اور', 'مانے', 'جاتے', 'ہیں', 'اورنگزیب', 'عالمگیر', 'نے', 'ہندوستان', 'میں', 'ایک', 'خاص', 'قسم', 'کا', 'کٹر', 'اسلام', 'نافذ', 'کر', 'رکھا', 'تھا', 'محمد', 'شاہ', 'کی', 'پیدائش', 'کے', 'وقت', 'اورنگزیب', 'عالمگیر', 'نے', 'ہندوستان', 'میں', 'ایک', 'خاص', 'قسم', 'کا', 'کٹر', 'اسلام', 'نافذ', 'کر', 'رکھا', 'تھا', 'اس', 'کا', 'سب', 'سے', 'پہلا', 'نشانہ', 'وہ', 'فنون', 'لطیفہ', 'بنے', 'جن', 'کے', 'بارے', 'میں', 'تصور', 'تھا', 'کہ', 'وہ', 'اسلامی', 'اصولوں', 'سے', 'مطابقت', 'نہیں', 'رکھتے', 'اس', 'کی', 'ایک', 'دلچسپ', 'مثال', 'اطالوی', 'سیاح', 'نکولو', 'منوچی', 'نے', 'لکھی', 'ہے', 'وہ', 'کہتے', 'ہیں', 'کہ', 'اورنگزیبی', 'دور', 'میں', 'جب', 'موسیقی', 'پر', 'پابندی', 'لگی', 'تو', 'گویوں', 'اور', 'موسیقاروں', 'کی', 'روٹی', 'روزی', 'بند', 'ہو', 'گئی', 'آخر', 'تنگ', 'آ', 'کر', 'ایک', 'ہزار', 'فنکاروں', 'نے', 'جمعے', 'کے', 'دن', 'دہلی', 'کی', 'جامع', 'مسجد', 'سے', 'ایک', 'جلوس', 'نکالا', 'اور', 'آلات', 'موسیقی', 'کو', 'جنازوں', 'کی', 'شکل', 'میں', 'لے', 'کر', 'روتے', 'پیٹتے', 'گزرنے', 'لگے', 'اورنگزیب', 'نے', 'دیکھا', 'تو', 'حیرت', 'زدہ', 'ہو', 'کر', 'پچھوایا', 'یہ', 'کس', 'کا', 'جنازہ', 'لیے', 'جا', 'رہے', 'ہو', 'جس', 'کی', 'خاطر', 'اس', 'قدر', 'آہ', 'و', 'بکا', 'کیا', 'جا', 'رہا', 'ہے', 'انھوں', 'نے', 'کہا', 'آپ', 'نے', 'موسیقی', 'قتل', 'کر', 'دی', 'ہے', 'اسے', 'دفنانے', 'جا', 'رہے', 'ہیں', 'اورنگزیب', 'نے', 'جواب', 'دیا', 'قبر', 'ذرا', 'گہری', 'کھودنا', 'طبیعیات', 'کا', 'اصول', 'ہے', 'کہ', 'ہر', 'عمل', 'کا', 'رد', 'عمل', 'ہوتا', 'ہے', 'یہی', 'اصول', 'تاریخ', 'اور', 'انسانی', 'معاشرت', 'پر', 'بھی', 'لاگو', 'ہوتا', 'ہے', 'کہ', 'جس', 'چیز', 'کو', 'جتنی', 'سختی', 'سے', 'دبایا', 'جائے', 'وہ', 'اتنی', 'ہی', 'قوت', 'سے', 'ابھر', 'کر', 'سامنے', 'آتی', 'ہے', 'چنانچہ', 'اورنگزیب', 'کے', 'بعد', 'بھی', 'یہی', 'کچھ', 'ہوا', 'اور', 'محمد', 'شاہ', 'کے', 'دور', 'میں', 'وہ', 'تمام', 'فنون', 'پوری', 'آب', 'و', 'تاب', 'سے', 'سامنے', 'آ', 'گئے', 'جو', 'اس', 'سے', 'پہلے', 'دب', 'گئے', 'تھے', 'سب', 'اچھاہے', 'حقائق', 'کی', 'قبر', 'ذرا', 'گہری', 'کھودنا']\n"
          ]
        }
      ],
      "source": [
        "import re\n",
        "\n",
        "def tokenize_urdu_text(text):\n",
        "    words = re.findall(r'\\b\\w+\\b', text)\n",
        "    return words\n",
        "\n",
        "urdu_text = text\n",
        "words = tokenize_urdu_text(urdu_text)\n",
        "print(words)"
      ]
    },
    {
      "cell_type": "code",
      "source": [
        "def find_matches(text):\n",
        "    matches = []\n",
        "    i = 0\n",
        "    while i < len(text):\n",
        "        start = i\n",
        "        while i < len(text) and text[i].isalnum():\n",
        "            i += 1\n",
        "        if start < i:\n",
        "            matches.append(text[start:i])\n",
        "        while i < len(text) and not text[i].isalnum():\n",
        "            i += 1\n",
        "    return matches\n",
        "\n",
        "urdu_text = text\n",
        "matches = find_matches(urdu_text)\n",
        "print(matches)"
      ],
      "metadata": {
        "id": "fh-pqElJiMtW",
        "outputId": "b299aa2b-5023-48f9-cd79-f251800bdad3",
        "colab": {
          "base_uri": "https://localhost:8080/"
        }
      },
      "execution_count": 39,
      "outputs": [
        {
          "output_type": "stream",
          "name": "stdout",
          "text": [
            "['گزشتہ', 'کئی', 'سالوں', 'سے', 'مختلف', 'بحران', 'آتے', 'جاتے', 'رہے', 'لیکن', 'حالیہ', 'آٹا', 'چینی', 'سمیت', 'دیگر', 'بحران', 'اچانک', 'پید', 'ا', 'ہوئے', 'اور', 'ان', 'پر', 'جے', 'آئی', 'ٹی', 'تشکیل', 'دے', 'دیں', 'گئیں', 'تاکہ', 'عوام', 'کو', 'ریلیف', 'دیا', 'جاسکے', 'دوسری', 'جانب', 'بجلی', 'گیس', 'پانی', 'سمیت', 'دیگر', 'بلوں', 'میں', 'کئی', 'سو', 'گنا', 'اضافہ', 'کردیا', 'گیا', 'صوبائی', 'و', 'وفاقی', 'وزراء', 'نے', 'اپنے', 'اپنے', 'ایوانوں', 'بحران', 'کے', 'ذمہ', 'دار', 'عناصر', 'کو', 'بے', 'نقاب', 'کرنے', 'کے', 'بجائے', 'سب', 'اچھاہے', 'کی', 'رپورٹ', 'پیش', 'کیں', 'ساتھ', 'ہی', 'اورنگزیب', 'کی', 'طرح', 'جواب', 'دیا', 'حقائق', 'کی', 'قبر', 'ذرا', 'گہری', 'کھودنا', 'تاریخی', 'گواہ', 'ہے', 'بقول', 'ماہرین', 'مبصرین', 'اور', 'صحافیوں', 'کا', 'کہنا', 'اور', 'لکھنا', 'ہے', 'کہ', 'پگڑی', 'بدل', 'بھائی', 'کی', 'رسم', 'کی', 'آڑ', 'میں', 'نادر', 'شاہ', 'نے', 'محمد', 'شاہ', 'رنگیلا', 'سے', 'کوہ', 'نور', 'ہیرا', 'حاصل', 'کیا', 'تھا', '12', 'مئی', '1739', 'کی', 'شام', 'دہلی', 'میں', 'زبردست', 'چہل', 'پہل', 'شاہجہان', 'آباد', 'میں', 'چراغاں', 'اور', 'لال', 'قلعے', 'میں', 'جشن', 'کا', 'سماں', 'ہے', 'غریبوں', 'میں', 'شربت', 'پان', 'اور', 'کھانا', 'تقسیم', 'کیا', 'جا', 'رہا', 'ہے', 'فقیروں', 'گداؤں', 'کو', 'جھولی', 'بھر', 'بھر', 'کر', 'روپے', 'عطا', 'ہو', 'رہے', 'ہیں', 'آج', 'دربار', 'میں', 'ایرانی', 'بادشاہ', 'نادر', 'شاہ', 'کے', 'سامنے', 'مغلیہ', 'سلطنت', 'کے', '13ویں', 'تاجدار', 'محمد', 'شاہ', 'بیٹھے', 'ہیں', 'لیکن', 'اس', 'وقت', 'ان', 'کے', 'سر', 'پر', 'شاہی', 'تاج', 'نہیں', 'ہے', 'کیوں', 'نادر', 'شاہ', 'نے', 'ڈھائی', 'ماہ', 'قبل', 'ان', 'سے', 'سلطنت', 'چھین', 'لی', 'تھی', '56', 'دن', 'دہلی', 'میں', 'رہنے', 'کے', 'بعد', 'اب', 'نادر', 'شاہ', 'کے', 'واپس', 'ایران', 'لوٹنے', 'کا', 'وقت', 'آ', 'گیا', 'ہے', 'اور', 'وہ', 'ہندوستان', 'کی', 'باگ', 'ڈور', 'دوبارہ', 'سے', 'محمد', 'شاہ', 'کے', 'حوالے', 'کرنا', 'چاہتا', 'ہے', 'نادر', 'شاہ', 'نے', 'صدیوں', 'سے', 'جمع', 'کردہ', 'مغل', 'خزانے', 'میں', 'جھاڑو', 'پھیر', 'دی', 'ہے', 'اور', 'شہر', 'کے', 'تمام', 'امرا', 'و', 'روسا', 'کی', 'جیبیں', 'الٹا', 'لی', 'ہیں', 'لیکن', 'اسے', 'دہلی', 'کی', 'ایک', 'طوائف', 'نور', 'بائی', 'نے', 'جس', 'کا', 'ذکر', 'آگے', 'چل', 'کر', 'آئے', 'گا', 'خفیہ', 'طور', 'پر', 'بتا', 'دیا', 'ہے', 'کہ', 'یہ', 'سب', 'کچھ', 'جو', 'تم', 'نے', 'حاصل', 'کیا', 'ہے', 'وہ', 'ایسی', 'چیز', 'کے', 'آگے', 'ہیچ', 'ہے', 'جسے', 'محمد', 'شاہ', 'نے', 'اپنی', 'پگڑی', 'میں', 'چھپا', 'رکھا', 'ہے', 'نادر', 'شاہ', 'گھاگ', 'سیاستدان', 'اور', 'گھاٹ', 'گھاٹ', 'کا', 'پانی', 'پیے', 'ہوئے', 'تھا', 'اس', 'موقعے', 'پر', 'وہ', 'چال', 'چلی', 'جسے', 'نہلے', 'پہ', 'دہلا', 'کہا', 'جاتا', 'ہے', 'اس', 'نے', 'محمد', 'شاہ', 'سے', 'کہا', 'ایران', 'میں', 'رسم', 'چلی', 'آتی', 'ہے', 'کہ', 'بھائی', 'خوشی', 'کے', 'موقعے', 'پر', 'آپس', 'میں', 'پگڑیاں', 'بدل', 'دیتے', 'ہیں', 'آج', 'سے', 'ہم', 'بھائی', 'بھائی', 'بن', 'گئے', 'ہیں', 'تو', 'کیوں', 'نہ', 'اسی', 'رسم', 'کا', 'اعادہ', 'کیا', 'جائے', 'محمد', 'شاہ', 'کے', 'پاس', 'سر', 'جھکانے', 'کے', 'علاوہ', 'کوئی', 'چارہ', 'نہیں', 'تھا', 'نادر', 'شاہ', 'نے', 'اپنی', 'پگڑی', 'اتار', 'کر', 'اس', 'کے', 'سر', 'رکھی', 'اور', 'اس', 'کی', 'پگڑی', 'اپنے', 'سر', 'اور', 'یوں', 'دنیا', 'کا', 'مشہور', 'ترین', 'ہیرا', 'کوہ', 'نور', 'ہندوستان', 'سے', 'نکل', 'کر', 'ایران', 'پہنچ', 'گیا', 'رنگیلا', 'بادشاہ', 'اس', 'ہیرے', 'کے', 'مالک', 'محمد', 'شاہ', 'اپنے', 'پڑدادا', 'اورنگزیب', 'عالمگیر', 'کے', 'دور', 'حکومت', 'میں', '1702', 'میں', 'پیدا', 'ہوئے', 'تھے', 'ان', 'کا', 'پیدائشی', 'نام', 'تو', 'روشن', 'اختر', 'تھا', 'تاہم', '29', 'ستمبر', '1719', 'کو', 'بادشاہ', 'گر', 'سید', 'برادران', 'نے', 'انھیں', 'صرف', '17', 'برس', 'کی', 'عمر', 'میں', 'سلطنت', 'تیموریہ', 'کے', 'تخت', 'پر', 'بٹھانے', 'کے', 'بعد', 'ابوالفتح', 'نصیر', 'الدین', 'روشن', 'اختر', 'محمد', 'شاہ', 'کا', 'خطاب', 'دیا', 'خود', 'ان', 'کا', 'تخلص', 'سدا', 'رنگیلا', 'تھا', 'اتنا', 'لمبا', 'نام', 'کون', 'یاد', 'رکھتا', 'چنانچہ', 'عوام', 'نے', 'دونوں', 'کو', 'ملا', 'کر', 'محمد', 'شاہ', 'رنگیلا', 'کر', 'دیا', 'اور', 'وہ', 'آج', 'تک', 'ہندوستان', 'کے', 'طول', 'و', 'عرض', 'میں', 'اسی', 'نام', 'سے', 'جانے', 'اور', 'مانے', 'جاتے', 'ہیں', 'اورنگزیب', 'عالمگیر', 'نے', 'ہندوستان', 'میں', 'ایک', 'خاص', 'قسم', 'کا', 'کٹر', 'اسلام', 'نافذ', 'کر', 'رکھا', 'تھا', 'محمد', 'شاہ', 'کی', 'پیدائش', 'کے', 'وقت', 'اورنگزیب', 'عالمگیر', 'نے', 'ہندوستان', 'میں', 'ایک', 'خاص', 'قسم', 'کا', 'کٹر', 'اسلام', 'نافذ', 'کر', 'رکھا', 'تھا', 'اس', 'کا', 'سب', 'سے', 'پہلا', 'نشانہ', 'وہ', 'فنون', 'لطیفہ', 'بنے', 'جن', 'کے', 'بارے', 'میں', 'تصور', 'تھا', 'کہ', 'وہ', 'اسلامی', 'اصولوں', 'سے', 'مطابقت', 'نہیں', 'رکھتے', 'اس', 'کی', 'ایک', 'دلچسپ', 'مثال', 'اطالوی', 'سیاح', 'نکولو', 'منوچی', 'نے', 'لکھی', 'ہے', 'وہ', 'کہتے', 'ہیں', 'کہ', 'اورنگزیبی', 'دور', 'میں', 'جب', 'موسیقی', 'پر', 'پابندی', 'لگی', 'تو', 'گویوں', 'اور', 'موسیقاروں', 'کی', 'روٹی', 'روزی', 'بند', 'ہو', 'گئی', 'آخر', 'تنگ', 'آ', 'کر', 'ایک', 'ہزار', 'فنکاروں', 'نے', 'جمعے', 'کے', 'دن', 'دہلی', 'کی', 'جامع', 'مسجد', 'سے', 'ایک', 'جلوس', 'نکالا', 'اور', 'آلات', 'موسیقی', 'کو', 'جنازوں', 'کی', 'شکل', 'میں', 'لے', 'کر', 'روتے', 'پیٹتے', 'گزرنے', 'لگے', 'اورنگزیب', 'نے', 'دیکھا', 'تو', 'حیرت', 'زدہ', 'ہو', 'کر', 'پچھوایا', 'یہ', 'کس', 'کا', 'جنازہ', 'لیے', 'جا', 'رہے', 'ہو', 'جس', 'کی', 'خاطر', 'اس', 'قدر', 'آہ', 'و', 'بکا', 'کیا', 'جا', 'رہا', 'ہے', 'انھوں', 'نے', 'کہا', 'آپ', 'نے', 'موسیقی', 'قتل', 'کر', 'دی', 'ہے', 'اسے', 'دفنانے', 'جا', 'رہے', 'ہیں', 'اورنگزیب', 'نے', 'جواب', 'دیا', 'قبر', 'ذرا', 'گہری', 'کھودنا', 'طبیعیات', 'کا', 'اصول', 'ہے', 'کہ', 'ہر', 'عمل', 'کا', 'رد', 'عمل', 'ہوتا', 'ہے', 'یہی', 'اصول', 'تاریخ', 'اور', 'انسانی', 'معاشرت', 'پر', 'بھی', 'لاگو', 'ہوتا', 'ہے', 'کہ', 'جس', 'چیز', 'کو', 'جتنی', 'سختی', 'سے', 'دبایا', 'جائے', 'وہ', 'اتنی', 'ہی', 'قوت', 'سے', 'ابھر', 'کر', 'سامنے', 'آتی', 'ہے', 'چنانچہ', 'اورنگزیب', 'کے', 'بعد', 'بھی', 'یہی', 'کچھ', 'ہوا', 'اور', 'محمد', 'شاہ', 'کے', 'دور', 'میں', 'وہ', 'تمام', 'فنون', 'پوری', 'آب', 'و', 'تاب', 'سے', 'سامنے', 'آ', 'گئے', 'جو', 'اس', 'سے', 'پہلے', 'دب', 'گئے', 'تھے', 'سب', 'اچھاہے', 'حقائق', 'کی', 'قبر', 'ذرا', 'گہری', 'کھودنا']\n"
          ]
        }
      ]
    },
    {
      "cell_type": "code",
      "source": [
        "def split_sentences(text):\n",
        "    sentences = []\n",
        "    start = 0\n",
        "    i = 0\n",
        "    while i < len(text):\n",
        "        if text[i] in ('.', '?', '!'):\n",
        "            sentences.append(text[start:i+1].strip())\n",
        "            start = i + 1\n",
        "        i += 1\n",
        "    sentences.append(text[start:].strip())\n",
        "    return sentences\n",
        "\n",
        "urdu_text = text\n",
        "sentences = split_sentences(urdu_text)\n",
        "print(sentences)"
      ],
      "metadata": {
        "id": "T7qVQZJEjK9t",
        "outputId": "3754a087-cbd3-4b89-ee82-5099fe721dd4",
        "colab": {
          "base_uri": "https://localhost:8080/"
        }
      },
      "execution_count": 40,
      "outputs": [
        {
          "output_type": "stream",
          "name": "stdout",
          "text": [
            "['گزشتہ کئی سالوں سے مختلف بحران آتے جاتے رہے لیکن حالیہ آٹا ، چینی سمیت دیگر بحران اچانک پید ا ہوئے اور ان پر جے آئی ٹی تشکیل دے دیں گئیں تاکہ عوام کو ریلیف دیا جاسکے دوسری جانب بجلی ، گیس ، پانی سمیت دیگر بلوں میں کئی سو گنا اضافہ کردیا گیا ،صوبائی و وفاقی وزراء نے اپنے اپنے ایوانوں بحران کے ذمہ دار عناصر کو بے نقاب کرنے کے بجائے سب اچھاہے کی رپورٹ پیش کیں ساتھ ہی اورنگزیب کی طرح جواب دیا، حقائق کی ’’قبر ذرا گہری کھودنا!', '‘‘ تاریخی گواہ ہے بقول ماہرین ، مبصرین اور صحافیوں کا کہنا اور لکھنا ہے کہ پگڑی بدل بھائی کی رسم کی آڑ میں نادر شاہ نے محمد شاہ رنگیلا سے کوہِ نور ہیرا حاصل کیا تھا 12 مئی 1739 کی شام دہلی میں زبردست چہل پہل، شاہجہان آباد میں چراغاں اور لال قلعے میں جشن کا سماں ہے غریبوں میں شربت، پان اور کھانا تقسیم کیا جا رہا ہے، فقیروں، گداؤں کو جھولی بھر بھر کر روپے عطا ہو رہے ہیں آج دربار میں ایرانی بادشاہ نادر شاہ کے سامنے مغلیہ سلطنت کے 13ویں تاجدار محمد شاہ بیٹھے ہیں، لیکن اس وقت ان کے سر پر شاہی تاج نہیں ہے، کیوں نادر شاہ نے ڈھائی ماہ قبل ان سے سلطنت چھین لی تھی 56 دن دہلی میں رہنے کے بعد اب نادر شاہ کے واپس ایران لوٹنے کا وقت آ گیا ہے اور وہ ہندوستان کی باگ ڈور دوبارہ سے محمد شاہ کے حوالے کرنا چاہتا ہے نادر شاہ نے صدیوں سے جمع کردہ مغل خزانے میں جھاڑو پھیر دی ہے اور شہر کے تمام امرا و روسا کی جیبیں الٹا لی ہیں، لیکن اسے دہلی کی ایک طوائف نور بائی نے، جس کا ذکر آگے چل کر آئے گا، خفیہ طور پر بتا دیا ہے کہ یہ سب کچھ جو تم نے حاصل کیا ہے، وہ ایسی چیز کے آگے ہیچ ہے جسے محمد شاہ نے اپنی پگڑی میں چھپا رکھا ہے نادر شاہ گھاگ سیاستدان اور گھاٹ گھاٹ کا پانی پیے ہوئے تھا اس موقعے پر وہ چال چلی جسے نہلے پہ دہلا کہا جاتا ہے اس نے محمد شاہ سے کہا، ’’ایران میں رسم چلی آتی ہے کہ بھائی خوشی کے موقعے پر آپس میں پگڑیاں بدل دیتے ہیں، آج سے ہم بھائی بھائی بن گئے ہیں، تو کیوں نہ اسی رسم کا اعادہ کیا جائے؟‘‘ محمد شاہ کے پاس سر جھکانے کے علاوہ کوئی چارہ نہیں تھا نادر شاہ نے اپنی پگڑی اتار کر اس کے سر رکھی، اور اس کی پگڑی اپنے سر، اور یوں دنیا کا مشہور ترین ہیرا کوہِ نور ہندوستان سے نکل کر ایران پہنچ گیا رنگیلا بادشاہ)اس ہیرے کے مالک محمد شاہ اپنے پڑدادا اورنگزیب عالمگیر کے دورِ حکومت میں 1702 میں پیدا ہوئے تھے ان کا پیدائشی نام تو روشن اختر تھا، تاہم 29 ستمبر 1719 کو بادشاہ گر سید برادران نے انھیں صرف 17 برس کی عمر میں سلطنت تیموریہ کے تخت پر بٹھانے کے بعد ابوالفتح نصیر الدین روشن اختر محمد شاہ کا خطاب دیا خود ان کا تخلص ’’سدا رنگیلا‘‘ تھا اتنا لمبا نام کون یاد رکھتا، چنانچہ عوام نے دونوں کو ملا کر محمد شاہ رنگیلا کر دیا اور وہ آج تک ہندوستان کے طول و عرض میں اسی نام سے جانے اور مانے جاتے ہیں اورنگزیب عالمگیر نے ہندوستان میں ایک خاص قسم کا کٹر اسلام نافذ کر رکھا تھا محمد شاہ کی پیدائش کے وقت اورنگزیب عالمگیر نے ہندوستان میں ایک خاص قسم کا کٹر اسلام نافذ کر رکھا تھا اس کا سب سے پہلا نشانہ وہ فنونِ لطیفہ بنے جن کے بارے میں تصور تھا کہ وہ اسلامی اصولوں سے مطابقت نہیں رکھتے اس کی ایک دلچسپ مثال اطالوی سیاح نکولو منوچی نے لکھی ہے وہ کہتے ہیں کہ اورنگزیبی دور میں جب موسیقی پر پابندی لگی تو گویوں اور موسیقاروں کی روٹی روزی بند ہو گئی آخر تنگ آ کر ایک ہزار فنکاروں نے جمعے کے دن دہلی کی جامع مسجد سے ایک جلوس نکالا اور آلات موسیقی کو جنازوں کی شکل میں لے کر روتے پیٹتے گزرنے لگے اورنگزیب نے دیکھا تو حیرت زدہ ہو کر پچھوایا، یہ کس کا جنازہ لیے جا رہے ہو جس کی خاطر اس قدر آہ و بکا کیا جا رہا ہے؟’’ انھوں نے کہا: ‘‘آپ نے موسیقی قتل کر دی ہے اسے دفنانے جا رہے ہیں اورنگزیب نے جواب دیا، ’’قبر ذرا گہری کھودنا!', '‘‘طبیعیات کا اصول ہے کہ ہر عمل کا ردِ عمل ہوتا ہے یہی اصول تاریخ اور انسانی معاشرت پر بھی لاگو ہوتا ہے کہ جس چیز کو جتنی سختی سے دبایا جائے، وہ اتنی ہی قوت سے ابھر کر سامنے آتی ہے چنانچہ اورنگزیب کے بعد بھی یہی کچھ ہوا اور محمد شاہ کے دور میں وہ تمام فنون پوری آب و تاب سے سامنے آ گئے جو اس سے پہلے دب گئے تھے \\t\\tسب اچھاہے ،حقائق کی قبر ذرا گہری کھودنا']\n"
          ]
        }
      ]
    },
    {
      "cell_type": "code",
      "source": [],
      "metadata": {
        "id": "jEuJP00vkmL1"
      },
      "execution_count": null,
      "outputs": []
    }
  ],
  "metadata": {
    "colab": {
      "provenance": []
    },
    "kernelspec": {
      "display_name": "Python 3",
      "language": "python",
      "name": "python3"
    },
    "language_info": {
      "codemirror_mode": {
        "name": "ipython",
        "version": 3
      },
      "file_extension": ".py",
      "mimetype": "text/x-python",
      "name": "python",
      "nbconvert_exporter": "python",
      "pygments_lexer": "ipython3",
      "version": "3.7.6"
    }
  },
  "nbformat": 4,
  "nbformat_minor": 0
}